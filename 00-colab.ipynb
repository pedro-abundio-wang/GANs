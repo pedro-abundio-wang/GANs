{
 "cells": [
  {
   "cell_type": "markdown",
   "metadata": {},
   "source": [
    "## Tutorial \n",
    "In this jupyter notebook, we will explain how to setup using google collaboratory by loading the preprocessed ABIDE dataset on your google drive. After successful execution of the code in this jupyter notebook, the users google drive would contain folder with all the necessary files to train autoencoder model as explained in the article       \n",
    "\n",
    "Useful resources:\n",
    "1. [Introduction to google collaboratory](https://medium.com/deep-learning-turkey/google-colab-free-gpu-tutorial-e113627b9f5d) : Provides a great introduction to google collaboratory \n",
    "2. [Google collaboratory](https://colab.research.google.com/notebooks/welcome.ipynb#recent=true): Official documentation"
   ]
  },
  {
   "cell_type": "markdown",
   "metadata": {},
   "source": [
    "## Step 0: \n",
    "Save a copy to your google drive or Download [this jupyter notebook](https://colab.research.google.com/drive/1e5EiI3LIt77Lga_mcBCA2poX9RfsssfN) and open it in your google drive.   "
   ]
  },
  {
   "cell_type": "markdown",
   "metadata": {},
   "source": [
    "## Step 1: Authenticate google colab \n",
    "\n",
    "By running the code below you are authenticating use of googe collab with your google account. "
   ]
  },
  {
   "cell_type": "code",
   "execution_count": null,
   "metadata": {},
   "outputs": [],
   "source": [
    "## Code to install necessary libraries and perform authorization\n",
    "\n",
    "\"\"\"\n",
    "When you run this code, you will be asked to authenticate which can be done by \n",
    "clicking the click outputed and copy pasting the access code. Sometime you have to do this couple of time to gain access\n",
    "\n",
    "If you ran this code after successful authentication during your session,\n",
    "when asked for verification code without any link to browser, enter your google password\n",
    "\"\"\"\n",
    "\n",
    "!apt-get install -y -qq software-properties-common python-software-properties module-init-tools\n",
    "!add-apt-repository -y ppa:alessandro-strada/ppa 2>&1 > /dev/null\n",
    "!apt-get update -qq 2>&1 > /dev/null\n",
    "!apt-get -y install -qq google-drive-ocamlfuse fuse\n",
    "from google.colab import auth\n",
    "auth.authenticate_user()\n",
    "from oauth2client.client import GoogleCredentials\n",
    "creds = GoogleCredentials.get_application_default()\n",
    "import getpass\n",
    "!google-drive-ocamlfuse -headless -id={creds.client_id} -secret={creds.client_secret} < /dev/null 2>&1 | grep URL\n",
    "vcode = getpass.getpass()\n",
    "!echo {vcode} | google-drive-ocamlfuse -headless -id={creds.client_id} -secret={creds.client_secret}"
   ]
  },
  {
   "cell_type": "markdown",
   "metadata": {},
   "source": [
    "## Step 2:  Setting working directory"
   ]
  },
  {
   "cell_type": "code",
   "execution_count": null,
   "metadata": {},
   "outputs": [],
   "source": [
    "## Mount google drive \n",
    "\n",
    "!mkdir -p drive\n",
    "!google-drive-ocamlfuse drive"
   ]
  },
  {
   "cell_type": "code",
   "execution_count": null,
   "metadata": {},
   "outputs": [],
   "source": [
    "## Create a folder called \"testing\"(any name you want )\n",
    "!mkdir -p /content/drive/github\n",
    "## Setting the working directory\n",
    "import os\n",
    "os.chdir(\"/content/drive/github\")"
   ]
  },
  {
   "cell_type": "code",
   "execution_count": null,
   "metadata": {},
   "outputs": [],
   "source": [
    "!pwd\n",
    "!ls -al"
   ]
  },
  {
   "cell_type": "markdown",
   "metadata": {},
   "source": [
    "## Step 3: Cloning github repository on to your google drive"
   ]
  },
  {
   "cell_type": "code",
   "execution_count": null,
   "metadata": {},
   "outputs": [],
   "source": [
    "\"\"\"\n",
    "Run this command. This will clone/download the necessary jupyter notebook files, data required to run Autoencoder session on ABIDE data set\n",
    "\"\"\"\n",
    "\n",
    "!git clone https://github.com/pedro-abundio-wang/GANs.git"
   ]
  },
  {
   "cell_type": "code",
   "execution_count": null,
   "metadata": {},
   "outputs": [],
   "source": [
    "os.chdir(\"/content/drive/github/GANs\")\n",
    "!ls -al"
   ]
  },
  {
   "cell_type": "code",
   "execution_count": null,
   "metadata": {},
   "outputs": [],
   "source": [
    "!git config --global user.email \"pedro.abundio.wang@gmail.com\"\n",
    "!git config --global user.name \"pedro-abundio-wang\""
   ]
  },
  {
   "cell_type": "markdown",
   "metadata": {},
   "source": [
    "## Step 4: Push github"
   ]
  },
  {
   "cell_type": "code",
   "execution_count": null,
   "metadata": {},
   "outputs": [],
   "source": [
    "!git remote remove origin\n",
    "!git remote add origin https://<USERNAME>:<PASSWORD>@github.com/pedro-abundio-wang/GANs.git"
   ]
  },
  {
   "cell_type": "code",
   "execution_count": null,
   "metadata": {},
   "outputs": [],
   "source": [
    "!git push --set-upstream origin master"
   ]
  },
  {
   "cell_type": "code",
   "execution_count": null,
   "metadata": {},
   "outputs": [],
   "source": [
    "!git push"
   ]
  },
  {
   "cell_type": "markdown",
   "metadata": {},
   "source": [
    "That's all ! If everything went well, you should see the cloned repository on your google drive. "
   ]
  }
 ],
 "metadata": {
  "kernelspec": {
   "display_name": "Python 3",
   "language": "python",
   "name": "python3"
  },
  "language_info": {
   "codemirror_mode": {
    "name": "ipython",
    "version": 3
   },
   "file_extension": ".py",
   "mimetype": "text/x-python",
   "name": "python",
   "nbconvert_exporter": "python",
   "pygments_lexer": "ipython3",
   "version": "3.6.9"
  }
 },
 "nbformat": 4,
 "nbformat_minor": 4
}
